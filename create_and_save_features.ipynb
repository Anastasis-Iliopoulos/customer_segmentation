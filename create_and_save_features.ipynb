{
 "cells": [
  {
   "cell_type": "code",
   "execution_count": 1,
   "metadata": {},
   "outputs": [],
   "source": [
    "import pandas as pd\n",
    "import matplotlib.pyplot as plt\n",
    "import seaborn as sns\n",
    "from IPython.display import display\n",
    "from sklearn.preprocessing import OneHotEncoder, StandardScaler\n",
    "from sklearn.decomposition import PCA\n",
    "import numpy as np\n",
    "import feature_egnineering as FE\n",
    "import utils as UT"
   ]
  },
  {
   "cell_type": "code",
   "execution_count": null,
   "metadata": {},
   "outputs": [],
   "source": [
    "orders = pd.read_csv(\"./Data/order.csv\", header=0, index_col=0)\n",
    "products = pd.read_csv(\"./Data/product.csv\", header=0, index_col=0, \n",
    "    dtype={\n",
    "        'category': 'str',\n",
    "        'collection': 'str',\n",
    "        'color': 'str',\n",
    "        'metal': 'str',  # Specify types explicitly if needed\n",
    "    }\n",
    ")\n",
    "final_df = orders.merge(products, on=\"product_id_with_size\", how=\"left\")"
   ]
  },
  {
   "cell_type": "code",
   "execution_count": 3,
   "metadata": {},
   "outputs": [
    {
     "name": "stderr",
     "output_type": "stream",
     "text": [
      "[2025-01-01 23:29:01,749] [INFO] [utils]: Logger set up: ./logs.log\n"
     ]
    }
   ],
   "source": [
    "UT.setup_logger()"
   ]
  },
  {
   "cell_type": "code",
   "execution_count": 4,
   "metadata": {},
   "outputs": [
    {
     "name": "stderr",
     "output_type": "stream",
     "text": [
      "[2025-01-01 23:29:01,765] [INFO] [feature_egnineering]: Generating consumer features and preparing the final dataset and save it.\n",
      "[2025-01-01 23:29:01,765] [INFO] [feature_egnineering]: Computing features for consumers.\n",
      "[2025-01-01 23:29:01,832] [INFO] [feature_egnineering]: Computing recency for consumers.\n",
      "[2025-01-01 23:29:02,416] [INFO] [feature_egnineering]: Recency computation completed for 319074 consumers.\n",
      "[2025-01-01 23:29:03,049] [INFO] [feature_egnineering]: Computing total baskets for consumers.\n",
      "[2025-01-01 23:29:03,682] [INFO] [feature_egnineering]: Total baskets computed for 319074 consumers.\n",
      "[2025-01-01 23:29:04,348] [INFO] [feature_egnineering]: Computing total spend money for consumers.\n",
      "[2025-01-01 23:29:04,881] [INFO] [feature_egnineering]: Total spend money computed for 319074 consumers.\n",
      "[2025-01-01 23:29:05,529] [INFO] [feature_egnineering]: Computing total refund money for consumers.\n",
      "c:\\Users\\a.iliopoulos_xe\\Desktop\\pandoras_ML\\assigment\\feature_egnineering.py:98: SettingWithCopyWarning: \n",
      "A value is trying to be set on a copy of a slice from a DataFrame.\n",
      "Try using .loc[row_indexer,col_indexer] = value instead\n",
      "\n",
      "See the caveats in the documentation: https://pandas.pydata.org/pandas-docs/stable/user_guide/indexing.html#returning-a-view-versus-a-copy\n",
      "  df[\"net_value_dkk\"] = df[\"net_value_dkk\"].abs()\n",
      "[2025-01-01 23:29:05,582] [INFO] [feature_egnineering]: Total refund money computed for 21473 consumers.\n",
      "[2025-01-01 23:29:06,149] [INFO] [feature_egnineering]: Computing total net revenue for consumers.\n",
      "[2025-01-01 23:29:06,626] [INFO] [feature_egnineering]: Total net revenue computed for 319074 consumers.\n",
      "[2025-01-01 23:29:07,261] [INFO] [feature_egnineering]: Computing average basket spend for consumers.\n",
      "[2025-01-01 23:29:07,968] [INFO] [feature_egnineering]: Average basket spend computed for 319074 consumers.\n",
      "[2025-01-01 23:29:08,613] [INFO] [feature_egnineering]: Computing total items purchased for consumers.\n",
      "[2025-01-01 23:29:09,130] [INFO] [feature_egnineering]: Total items purchased computed for 318302 consumers.\n",
      "[2025-01-01 23:29:09,779] [INFO] [feature_egnineering]: Computing total distinct items purchased for consumers.\n",
      "[2025-01-01 23:29:10,358] [INFO] [feature_egnineering]: Total distinct items purchased computed for 318302 consumers.\n",
      "[2025-01-01 23:29:11,008] [INFO] [feature_egnineering]: Computing total returned items for consumers.\n",
      "[2025-01-01 23:29:11,050] [INFO] [feature_egnineering]: Total returned items computed for 21473 consumers.\n",
      "[2025-01-01 23:29:11,628] [INFO] [feature_egnineering]: Computing favourite day of the week for consumers.\n",
      "[2025-01-01 23:29:12,645] [INFO] [feature_egnineering]: Favourite day of the week computed for 319074 consumers.\n",
      "[2025-01-01 23:29:13,312] [INFO] [feature_egnineering]: Computing favourite metal for consumers.\n",
      "[2025-01-01 23:29:14,462] [INFO] [feature_egnineering]: Favourite metal computed for 315594 consumers.\n",
      "[2025-01-01 23:29:15,145] [INFO] [feature_egnineering]: Computing favourite store type for consumers.\n",
      "[2025-01-01 23:29:16,178] [INFO] [feature_egnineering]: Favourite store type computed for 319074 consumers.\n",
      "[2025-01-01 23:29:16,845] [INFO] [feature_egnineering]: Computing theme preference for consumers.\n",
      "[2025-01-01 23:29:17,911] [INFO] [feature_egnineering]: Theme preference computed for 318302 consumers.\n",
      "[2025-01-01 23:29:18,661] [INFO] [feature_egnineering]: Total consumers: 319074.\n",
      "[2025-01-01 23:29:20,011] [INFO] [feature_egnineering]: Final dataset saved successfully to ./consumers_features.parquet.gzip.\n"
     ]
    }
   ],
   "source": [
    "FE.generate_and_save_dataset(final_df, \"2024-01-01\", \"./consumers_features.parquet.gzip\")"
   ]
  },
  {
   "cell_type": "code",
   "execution_count": null,
   "metadata": {},
   "outputs": [],
   "source": []
  }
 ],
 "metadata": {
  "kernelspec": {
   "display_name": "venv",
   "language": "python",
   "name": "python3"
  },
  "language_info": {
   "codemirror_mode": {
    "name": "ipython",
    "version": 3
   },
   "file_extension": ".py",
   "mimetype": "text/x-python",
   "name": "python",
   "nbconvert_exporter": "python",
   "pygments_lexer": "ipython3",
   "version": "3.9.7"
  }
 },
 "nbformat": 4,
 "nbformat_minor": 2
}
