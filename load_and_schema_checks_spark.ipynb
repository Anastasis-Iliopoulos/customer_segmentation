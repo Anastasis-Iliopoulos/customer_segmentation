{
 "cells": [
  {
   "cell_type": "code",
   "execution_count": 1,
   "metadata": {},
   "outputs": [],
   "source": [
    "import os\n",
    "import sys\n",
    "\n",
    "os.environ['PYSPARK_PYTHON'] = sys.executable\n",
    "os.environ['PYSPARK_DRIVER_PYTHON'] = sys.executable"
   ]
  },
  {
   "cell_type": "code",
   "execution_count": 2,
   "metadata": {},
   "outputs": [],
   "source": [
    "from pyspark.sql import SparkSession\n",
    "from pyspark.sql import functions as F\n",
    "from pyspark.sql.types import *\n",
    "from datetime import date, timedelta, datetime\n",
    "from pyspark.sql.window import Window\n",
    "\n",
    "from IPython.display import display"
   ]
  },
  {
   "cell_type": "code",
   "execution_count": 3,
   "metadata": {},
   "outputs": [],
   "source": [
    "def disp(df, n=None):\n",
    "    if n is not None:\n",
    "        display(df.toPandas().head(n))\n",
    "    else:\n",
    "        display(df.toPandas())"
   ]
  },
  {
   "cell_type": "code",
   "execution_count": 4,
   "metadata": {},
   "outputs": [],
   "source": [
    "spark = SparkSession.builder.appName(\"mymain\").master(\"local[*]\").getOrCreate()\n",
    "# spark = SparkSession.builder.appName(\"mymain\").getOrCreate()"
   ]
  },
  {
   "cell_type": "markdown",
   "metadata": {},
   "source": [
    "## First Check\n",
    "\n",
    "- Check schema\n",
    "- Check malformed data\n",
    "- Check Numbers - set schema explicitly "
   ]
  },
  {
   "cell_type": "code",
   "execution_count": 6,
   "metadata": {},
   "outputs": [
    {
     "data": {
      "text/html": [
       "<div>\n",
       "<style scoped>\n",
       "    .dataframe tbody tr th:only-of-type {\n",
       "        vertical-align: middle;\n",
       "    }\n",
       "\n",
       "    .dataframe tbody tr th {\n",
       "        vertical-align: top;\n",
       "    }\n",
       "\n",
       "    .dataframe thead th {\n",
       "        text-align: right;\n",
       "    }\n",
       "</style>\n",
       "<table border=\"1\" class=\"dataframe\">\n",
       "  <thead>\n",
       "    <tr style=\"text-align: right;\">\n",
       "      <th></th>\n",
       "      <th>index</th>\n",
       "      <th>order_id</th>\n",
       "      <th>sellout_date</th>\n",
       "      <th>consumer_id</th>\n",
       "      <th>quantity</th>\n",
       "      <th>net_value_dkk</th>\n",
       "      <th>store_id</th>\n",
       "      <th>store_type</th>\n",
       "      <th>product_id_with_size</th>\n",
       "      <th>malformed_rows</th>\n",
       "    </tr>\n",
       "  </thead>\n",
       "  <tbody>\n",
       "  </tbody>\n",
       "</table>\n",
       "</div>"
      ],
      "text/plain": [
       "Empty DataFrame\n",
       "Columns: [index, order_id, sellout_date, consumer_id, quantity, net_value_dkk, store_id, store_type, product_id_with_size, malformed_rows]\n",
       "Index: []"
      ]
     },
     "metadata": {},
     "output_type": "display_data"
    },
    {
     "data": {
      "text/html": [
       "<div>\n",
       "<style scoped>\n",
       "    .dataframe tbody tr th:only-of-type {\n",
       "        vertical-align: middle;\n",
       "    }\n",
       "\n",
       "    .dataframe tbody tr th {\n",
       "        vertical-align: top;\n",
       "    }\n",
       "\n",
       "    .dataframe thead th {\n",
       "        text-align: right;\n",
       "    }\n",
       "</style>\n",
       "<table border=\"1\" class=\"dataframe\">\n",
       "  <thead>\n",
       "    <tr style=\"text-align: right;\">\n",
       "      <th></th>\n",
       "      <th>index</th>\n",
       "      <th>product_id_with_size</th>\n",
       "      <th>product_id</th>\n",
       "      <th>category</th>\n",
       "      <th>collection</th>\n",
       "      <th>color</th>\n",
       "      <th>metal</th>\n",
       "      <th>theme</th>\n",
       "      <th>malformed_rows</th>\n",
       "    </tr>\n",
       "  </thead>\n",
       "  <tbody>\n",
       "  </tbody>\n",
       "</table>\n",
       "</div>"
      ],
      "text/plain": [
       "Empty DataFrame\n",
       "Columns: [index, product_id_with_size, product_id, category, collection, color, metal, theme, malformed_rows]\n",
       "Index: []"
      ]
     },
     "metadata": {},
     "output_type": "display_data"
    }
   ],
   "source": [
    "order_schema = StructType([\n",
    "    StructField(\"index\", StringType(), True),\n",
    "    StructField(\"order_id\",StringType(),True),\n",
    "    StructField(\"sellout_date\",StringType(),True),\n",
    "    StructField(\"consumer_id\",StringType(),True),\n",
    "    StructField(\"quantity\",IntegerType(),True),\n",
    "    StructField(\"net_value_dkk\",DoubleType(),True),\n",
    "    StructField(\"store_id\",StringType(),True),\n",
    "    StructField(\"store_type\",StringType(),True),\n",
    "    StructField(\"product_id_with_size\",StringType(),True),\n",
    "    StructField(\"malformed_rows\",StringType(),True)\n",
    "])\n",
    "\n",
    "order = (spark.read\n",
    "  .format(\"csv\")\n",
    "  .option(\"mode\", \"PERMISSIVE\")\n",
    "  .option(\"columnNameOfCorruptRecord\", \"malformed_rows\")\n",
    "  .option('encoding', 'utf-8')\n",
    "  .option('lineSep', '\\n')\n",
    "  .schema(order_schema)\n",
    "  .option(\"header\", \"true\")\n",
    "  # .option(\"inferSchema\", True)\n",
    "  .load(\"./Data/order.csv\")\n",
    ")\n",
    "\n",
    "disp(order.filter(\"malformed_rows is not null\"))\n",
    "\n",
    "product_schema = StructType([\n",
    "    StructField(\"index\", StringType(), True),\n",
    "    StructField(\"product_id_with_size\",StringType(),True),\n",
    "    StructField(\"product_id\",StringType(),True),\n",
    "    StructField(\"category\",StringType(),True),\n",
    "    StructField(\"collection\",StringType(),True),\n",
    "    StructField(\"color\",StringType(),True),\n",
    "    StructField(\"metal\",StringType(),True),\n",
    "    StructField(\"theme\",StringType(),True),\n",
    "    StructField(\"malformed_rows\",StringType(),True)\n",
    "])\n",
    "\n",
    "product = (spark.read\n",
    "  .format(\"csv\")\n",
    "  .option(\"mode\", \"PERMISSIVE\")\n",
    "  .option(\"columnNameOfCorruptRecord\", \"malformed_rows\")\n",
    "  .option('encoding', 'utf-8')\n",
    "  .option('lineSep', '\\n')\n",
    "  .schema(product_schema)\n",
    "  .option(\"header\", \"true\")\n",
    "  # .option(\"inferSchema\", True)\n",
    "  .load(\"./Data/product.csv\")\n",
    ")\n",
    "\n",
    "disp(product.filter(\"malformed_rows is not null\"))"
   ]
  },
  {
   "cell_type": "markdown",
   "metadata": {},
   "source": [
    "## General Checks\n",
    "\n",
    "- Check dates\n",
    "- Check uniqueness\n",
    "- Check missings"
   ]
  },
  {
   "cell_type": "code",
   "execution_count": 5,
   "metadata": {},
   "outputs": [],
   "source": [
    "orders_schema = StructType([\n",
    "    StructField(\"index\", StringType(), True),\n",
    "    StructField(\"order_id\",StringType(),True),\n",
    "    StructField(\"sellout_date\",StringType(),True),\n",
    "    StructField(\"consumer_id\",StringType(),True),\n",
    "    StructField(\"quantity\",IntegerType(),True),\n",
    "    StructField(\"net_value_dkk\",DoubleType(),True),\n",
    "    StructField(\"store_id\",StringType(),True),\n",
    "    StructField(\"store_type\",StringType(),True),\n",
    "    StructField(\"product_id_with_size\",StringType(),True),\n",
    "])\n",
    "\n",
    "orders = (spark.read\n",
    "  .format(\"csv\")\n",
    "  .option(\"mode\", \"FAILFAST\")\n",
    "  .option('encoding', 'utf-8')\n",
    "  .option('lineSep', '\\n')\n",
    "  .schema(orders_schema)\n",
    "  .option(\"header\", \"true\")\n",
    "  # .option(\"inferSchema\", True)\n",
    "  .load(\"./Data/order.csv\")\n",
    ")\n",
    "orders = orders.drop(\"index\")\n",
    "\n",
    "products_schema = StructType([\n",
    "    StructField(\"index\", StringType(), True),\n",
    "    StructField(\"product_id_with_size\",StringType(),True),\n",
    "    StructField(\"product_id\",StringType(),True),\n",
    "    StructField(\"category\",StringType(),True),\n",
    "    StructField(\"collection\",StringType(),True),\n",
    "    StructField(\"color\",StringType(),True),\n",
    "    StructField(\"metal\",StringType(),True),\n",
    "    StructField(\"theme\",StringType(),True),\n",
    "])\n",
    "\n",
    "products = (spark.read\n",
    "  .format(\"csv\")\n",
    "  .option(\"mode\", \"FAILFAST\")\n",
    "  .option('encoding', 'utf-8')\n",
    "  .option('lineSep', '\\n')\n",
    "  .schema(products_schema)\n",
    "  .option(\"header\", \"true\")\n",
    "  # .option(\"inferSchema\", True)\n",
    "  .load(\"./Data/product.csv\")\n",
    ")\n",
    "products = products.drop(\"index\")"
   ]
  },
  {
   "cell_type": "code",
   "execution_count": 8,
   "metadata": {},
   "outputs": [
    {
     "data": {
      "text/html": [
       "<div>\n",
       "<style scoped>\n",
       "    .dataframe tbody tr th:only-of-type {\n",
       "        vertical-align: middle;\n",
       "    }\n",
       "\n",
       "    .dataframe tbody tr th {\n",
       "        vertical-align: top;\n",
       "    }\n",
       "\n",
       "    .dataframe thead th {\n",
       "        text-align: right;\n",
       "    }\n",
       "</style>\n",
       "<table border=\"1\" class=\"dataframe\">\n",
       "  <thead>\n",
       "    <tr style=\"text-align: right;\">\n",
       "      <th></th>\n",
       "      <th>sellout_date_is_valid_date</th>\n",
       "      <th>count</th>\n",
       "    </tr>\n",
       "  </thead>\n",
       "  <tbody>\n",
       "    <tr>\n",
       "      <th>0</th>\n",
       "      <td>True</td>\n",
       "      <td>916074</td>\n",
       "    </tr>\n",
       "  </tbody>\n",
       "</table>\n",
       "</div>"
      ],
      "text/plain": [
       "   sellout_date_is_valid_date   count\n",
       "0                        True  916074"
      ]
     },
     "metadata": {},
     "output_type": "display_data"
    }
   ],
   "source": [
    "disp(\n",
    "    orders\n",
    "    .withColumn(\n",
    "        \"sellout_date_is_valid_date\", \n",
    "        F.when(F.to_date(\"sellout_date\", \"yyyy-MM-dd\").isNotNull(), True)\n",
    "    )\n",
    "    .groupBy(\"sellout_date_is_valid_date\").count()\n",
    ")"
   ]
  }
 ],
 "metadata": {
  "kernelspec": {
   "display_name": "venv",
   "language": "python",
   "name": "python3"
  },
  "language_info": {
   "codemirror_mode": {
    "name": "ipython",
    "version": 3
   },
   "file_extension": ".py",
   "mimetype": "text/x-python",
   "name": "python",
   "nbconvert_exporter": "python",
   "pygments_lexer": "ipython3",
   "version": "3.9.7"
  }
 },
 "nbformat": 4,
 "nbformat_minor": 2
}
